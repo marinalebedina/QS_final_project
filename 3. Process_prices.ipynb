{
 "cells": [
  {
   "cell_type": "markdown",
   "metadata": {},
   "source": [
    "FOREX data source for manual downloading: https://www.dukascopy.com/plugins/fxMarketWatch/?historical_data "
   ]
  },
  {
   "cell_type": "markdown",
   "metadata": {},
   "source": [
    "# 3. Download and Process FX rates"
   ]
  },
  {
   "cell_type": "code",
   "execution_count": 6,
   "metadata": {},
   "outputs": [],
   "source": [
    "import pandas as pd\n",
    "import numpy as np\n",
    "\n",
    "\n",
    "def load_prices(pairname, period, start_date, end_date):\n",
    "    data = pd.DataFrame()\n",
    "    if pairname == 'EURUSD':\n",
    "        data = pd.read_csv('Data/Testing_data/Prices/' +\n",
    "                              'EURUSD_Candlestick_1_' + period + '_BID_' + start_date + '-' + end_date + '.csv')\n",
    "        data = data[['Gmt time', 'Close']]\n",
    "        data.rename(columns = {'Close' : 'EURUSD'}, inplace = True)\n",
    "    if pairname == 'GBPUSD':\n",
    "        data = pd.read_csv('Data/Testing_data/Prices/' +\n",
    "                              'GBPUSD_Candlestick_1_' + period + '_BID_' + start_date + '-' + end_date + '.csv')\n",
    "        data = data[['Gmt time', 'Close']]\n",
    "        data.rename(columns = {'Close' : 'GBPUSD'}, inplace = True)\n",
    "    if pairname == 'USDCAD':\n",
    "        data = pd.read_csv('Data/Testing_data/Prices/' +\n",
    "                              'USDCAD_Candlestick_1_' + period + '_BID_' + start_date + '-' + end_date + '.csv')\n",
    "        data = data[['Gmt time', 'Close']]\n",
    "        data['Close'] = 1 / data['Close']\n",
    "        data.rename(columns = {'Close' : 'CADUSD'}, inplace = True)\n",
    "    if pairname == 'USDJPY':\n",
    "        data = pd.read_csv('Data/Testing_data/Prices/' +\n",
    "                              'USDJPY_Candlestick_1_' + period + '_BID_' + start_date + '-' + end_date + '.csv')\n",
    "        data = data[['Gmt time', 'Close']]\n",
    "        data['Close'] = 1 / data['Close']\n",
    "        data.rename(columns = {'Close' : 'JPYUSD'}, inplace = True)\n",
    "    return data"
   ]
  },
  {
   "cell_type": "code",
   "execution_count": 7,
   "metadata": {},
   "outputs": [],
   "source": [
    "start_date = '06.01.2019'\n",
    "end_date = '30.05.2020'\n",
    "\n",
    "eurusd_m = load_prices('EURUSD', 'M', start_date, end_date)\n",
    "eurusd_h = load_prices('EURUSD', 'Hour', start_date, end_date)\n",
    "eurusd_d = load_prices('EURUSD', 'D', start_date, end_date)\n",
    "\n",
    "cadusd_m = load_prices('USDCAD', 'M', start_date, end_date)\n",
    "cadusd_h = load_prices('USDCAD', 'Hour', start_date, end_date)\n",
    "cadusd_d = load_prices('USDCAD', 'D', start_date, end_date)\n",
    "\n",
    "gbpusd_m = load_prices('GBPUSD', 'M', start_date, end_date)\n",
    "gbpusd_h = load_prices('GBPUSD', 'Hour', start_date, end_date)\n",
    "gbpusd_d = load_prices('GBPUSD', 'D', start_date, end_date)\n",
    "\n",
    "jpyusd_m = load_prices('USDJPY', 'M', start_date, end_date)\n",
    "jpyusd_h = load_prices('USDJPY', 'Hour', start_date, end_date)\n",
    "jpyusd_d = load_prices('USDJPY', 'D', start_date, end_date)"
   ]
  },
  {
   "cell_type": "code",
   "execution_count": 8,
   "metadata": {},
   "outputs": [],
   "source": [
    "data_m1 = pd.merge(eurusd_m, cadusd_m, on=['Gmt time'])\n",
    "data_m2 = pd.merge(gbpusd_m, jpyusd_m, on=['Gmt time'])\n",
    "data_m = pd.merge(data_m1, data_m2, on=['Gmt time'])\n",
    "\n",
    "data_h1 = pd.merge(eurusd_h, cadusd_h, on=['Gmt time'])\n",
    "data_h2 = pd.merge(gbpusd_h, jpyusd_h, on=['Gmt time'])\n",
    "data_h = pd.merge(data_h1, data_h2, on=['Gmt time'])\n",
    "\n",
    "data_d1 = pd.merge(eurusd_d, cadusd_d, on=['Gmt time'])\n",
    "data_d2 = pd.merge(gbpusd_d, jpyusd_d, on=['Gmt time'])\n",
    "data_d = pd.merge(data_d1, data_d2, on=['Gmt time'])"
   ]
  },
  {
   "cell_type": "code",
   "execution_count": null,
   "metadata": {},
   "outputs": [
    {
     "data": {
      "application/vnd.jupyter.widget-view+json": {
       "model_id": "0fa6d4b386414c8bb3381dbc585c619f",
       "version_major": 2,
       "version_minor": 0
      },
      "text/plain": [
       "HBox(children=(IntProgress(value=0, max=734400), HTML(value='')))"
      ]
     },
     "metadata": {},
     "output_type": "display_data"
    },
    {
     "name": "stderr",
     "output_type": "stream",
     "text": [
      "/opt/anaconda3/lib/python3.7/site-packages/ipykernel_launcher.py:5: SettingWithCopyWarning: \n",
      "A value is trying to be set on a copy of a slice from a DataFrame\n",
      "\n",
      "See the caveats in the documentation: http://pandas.pydata.org/pandas-docs/stable/user_guide/indexing.html#returning-a-view-versus-a-copy\n",
      "  \"\"\"\n"
     ]
    }
   ],
   "source": [
    "from datetime import datetime\n",
    "from tqdm import tnrange\n",
    "\n",
    "for i in tnrange(data_m.shape[0]):\n",
    "    data_m['Gmt time'][i] = datetime.strptime(data_m['Gmt time'][i][:19], '%d.%m.%Y %H:%M:%S') # , '%Y-%m-%d %H:%m:%s'\n",
    "data_m.to_csv('Testing_data/Prices/data_m.csv', header=True, index=False)\n",
    "data_m.head(5)"
   ]
  },
  {
   "cell_type": "code",
   "execution_count": 21,
   "metadata": {},
   "outputs": [],
   "source": [
    "for i in tnrange(data_h.shape[0]):\n",
    "    data_h['Gmt time'][i] = datetime.strptime(data_h['Gmt time'][i][:19], '%d.%m.%Y %H:%M:%S') # , '%Y-%m-%d %H:%m:%s'\n",
    "data_h.to_csv('Testing_data/Prices/data_h.csv', header=True, index=False)\n",
    "data_h.head(5)"
   ]
  },
  {
   "cell_type": "code",
   "execution_count": 22,
   "metadata": {},
   "outputs": [
    {
     "data": {
      "application/vnd.jupyter.widget-view+json": {
       "model_id": "2b54a1efaa654f22bfc6529dd45e0029",
       "version_major": 2,
       "version_minor": 0
      },
      "text/plain": [
       "HBox(children=(IntProgress(value=0, max=1055), HTML(value='')))"
      ]
     },
     "metadata": {},
     "output_type": "display_data"
    },
    {
     "name": "stderr",
     "output_type": "stream",
     "text": [
      "/anaconda3/lib/python3.6/site-packages/ipykernel_launcher.py:2: SettingWithCopyWarning: \n",
      "A value is trying to be set on a copy of a slice from a DataFrame\n",
      "\n",
      "See the caveats in the documentation: http://pandas.pydata.org/pandas-docs/stable/indexing.html#indexing-view-versus-copy\n",
      "  \n"
     ]
    },
    {
     "data": {
      "text/html": [
       "<div>\n",
       "<style scoped>\n",
       "    .dataframe tbody tr th:only-of-type {\n",
       "        vertical-align: middle;\n",
       "    }\n",
       "\n",
       "    .dataframe tbody tr th {\n",
       "        vertical-align: top;\n",
       "    }\n",
       "\n",
       "    .dataframe thead th {\n",
       "        text-align: right;\n",
       "    }\n",
       "</style>\n",
       "<table border=\"1\" class=\"dataframe\">\n",
       "  <thead>\n",
       "    <tr style=\"text-align: right;\">\n",
       "      <th></th>\n",
       "      <th>Gmt time</th>\n",
       "      <th>EURUSD</th>\n",
       "      <th>CADUSD</th>\n",
       "      <th>GBPUSD</th>\n",
       "      <th>JPYUSD</th>\n",
       "    </tr>\n",
       "  </thead>\n",
       "  <tbody>\n",
       "    <tr>\n",
       "      <th>0</th>\n",
       "      <td>2005-09-08 21:00:00</td>\n",
       "      <td>1.24064</td>\n",
       "      <td>0.849495</td>\n",
       "      <td>1.83929</td>\n",
       "      <td>0.009120</td>\n",
       "    </tr>\n",
       "    <tr>\n",
       "      <th>1</th>\n",
       "      <td>2005-09-11 21:00:00</td>\n",
       "      <td>1.22803</td>\n",
       "      <td>0.842737</td>\n",
       "      <td>1.81932</td>\n",
       "      <td>0.009064</td>\n",
       "    </tr>\n",
       "    <tr>\n",
       "      <th>2</th>\n",
       "      <td>2005-09-12 21:00:00</td>\n",
       "      <td>1.22625</td>\n",
       "      <td>0.846819</td>\n",
       "      <td>1.82204</td>\n",
       "      <td>0.009040</td>\n",
       "    </tr>\n",
       "    <tr>\n",
       "      <th>3</th>\n",
       "      <td>2005-09-13 21:00:00</td>\n",
       "      <td>1.22813</td>\n",
       "      <td>0.847501</td>\n",
       "      <td>1.82336</td>\n",
       "      <td>0.009060</td>\n",
       "    </tr>\n",
       "    <tr>\n",
       "      <th>4</th>\n",
       "      <td>2005-09-14 21:00:00</td>\n",
       "      <td>1.22229</td>\n",
       "      <td>0.844480</td>\n",
       "      <td>1.80561</td>\n",
       "      <td>0.009041</td>\n",
       "    </tr>\n",
       "  </tbody>\n",
       "</table>\n",
       "</div>"
      ],
      "text/plain": [
       "              Gmt time   EURUSD    CADUSD   GBPUSD    JPYUSD\n",
       "0  2005-09-08 21:00:00  1.24064  0.849495  1.83929  0.009120\n",
       "1  2005-09-11 21:00:00  1.22803  0.842737  1.81932  0.009064\n",
       "2  2005-09-12 21:00:00  1.22625  0.846819  1.82204  0.009040\n",
       "3  2005-09-13 21:00:00  1.22813  0.847501  1.82336  0.009060\n",
       "4  2005-09-14 21:00:00  1.22229  0.844480  1.80561  0.009041"
      ]
     },
     "execution_count": 22,
     "metadata": {},
     "output_type": "execute_result"
    }
   ],
   "source": [
    "for i in tnrange(data_d.shape[0]):\n",
    "    data_d['Gmt time'][i] = datetime.strptime(data_d['Gmt time'][i][:19], '%d.%m.%Y %H:%M:%S') # , '%Y-%m-%d %H:%m:%s'\n",
    "data_d.to_csv('Testing_data/Prices/data_d.csv', header=True, index=False)\n",
    "data_d.head(5)"
   ]
  },
  {
   "cell_type": "markdown",
   "metadata": {},
   "source": [
    "## Calculate exchange rate relatives"
   ]
  },
  {
   "cell_type": "code",
   "execution_count": 23,
   "metadata": {},
   "outputs": [],
   "source": [
    "data_m2 = data_m.drop(['Gmt time'], axis = 1)\n",
    "data_m3 = (data_m2.shift(1) / data_m2).dropna() # returns\n",
    "data_m4 = data_m[['Gmt time']] # date\n",
    "data_m_ret = pd.merge(data_m3, data_m4, left_index=True, right_index=True)\n",
    "print(data_m.shape)\n",
    "print(data_m_ret.shape)\n",
    "data_m_ret.to_csv('Testing_data/Prices/data_m_ret.csv', header=True, index=False)"
   ]
  },
  {
   "cell_type": "code",
   "execution_count": 24,
   "metadata": {},
   "outputs": [],
   "source": [
    "data_h2 = data_h.drop(['Gmt time'], axis = 1)\n",
    "data_h3 = (data_h2.shift(1) / data_h2).dropna() # returns\n",
    "data_h4 = data_h[['Gmt time']] # date\n",
    "data_h_ret = pd.merge(data_h3, data_h4, left_index=True, right_index=True)\n",
    "print(data_h.shape)\n",
    "print(data_h_ret.shape)\n",
    "data_h_ret.to_csv('Testing_data/Prices/data_h_ret.csv', header=True, index=False)"
   ]
  },
  {
   "cell_type": "code",
   "execution_count": 25,
   "metadata": {},
   "outputs": [
    {
     "name": "stdout",
     "output_type": "stream",
     "text": [
      "(1055, 5)\n",
      "(1054, 5)\n"
     ]
    }
   ],
   "source": [
    "data_d2 = data_d.drop(['Gmt time'], axis = 1)\n",
    "data_d3 = (data_d2.shift(1) / data_d2).dropna() # returns\n",
    "data_d4 = data_d[['Gmt time']] # date\n",
    "data_d_ret = pd.merge(data_d3, data_d4, left_index=True, right_index=True)\n",
    "print(data_d.shape)\n",
    "print(data_d_ret.shape)\n",
    "data_d_ret.to_csv('Testing_data/Prices/data_d_ret.csv', header=True, index=False)"
   ]
  }
 ],
 "metadata": {
  "kernelspec": {
   "display_name": "Python 3",
   "language": "python",
   "name": "python3"
  },
  "language_info": {
   "codemirror_mode": {
    "name": "ipython",
    "version": 3
   },
   "file_extension": ".py",
   "mimetype": "text/x-python",
   "name": "python",
   "nbconvert_exporter": "python",
   "pygments_lexer": "ipython3",
   "version": "3.7.4"
  }
 },
 "nbformat": 4,
 "nbformat_minor": 2
}
