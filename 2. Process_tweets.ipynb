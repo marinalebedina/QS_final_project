{
 "cells": [
  {
   "cell_type": "markdown",
   "metadata": {},
   "source": [
    "# 2. Merge tweets in the database (just processing of files)"
   ]
  },
  {
   "cell_type": "code",
   "execution_count": 1,
   "metadata": {},
   "outputs": [
    {
     "name": "stdout",
     "output_type": "stream",
     "text": [
      "['2019-01-07 2019-01-08 2019-01-09 2019-01-11 2019-01-12 2019-01-13 2019-01-14 2019-01-10 2019-01-15 2019-01-16 2019-01-17 2019-01-18 2019-01-19 2019-01-20 2019-01-21 2019-01-22 2019-01-23 2019-01-24 2019-01-25 2019-01-26 2019-01-27 2019-01-28 2019-01-29 2019-01-30 2019-01-31 2019-02-01 2019-02-02 2019-02-03 2019-02-04 2019-02-05 2019-02-06 2019-02-07 2019-02-08 2019-02-09 2019-02-10 2019-02-11 2019-02-12 2019-02-13 2019-02-14 2019-02-15 2019-02-16 2019-02-17 2019-02-18 2019-02-19 2019-02-20 2019-02-21 2019-02-22 2019-02-23 2019-02-24 2019-02-25 2019-02-26 2019-02-27 2019-02-28 2019-03-01 2019-03-02 2019-03-03 2019-03-04 2019-03-05 2019-03-06 2019-03-07 2019-03-08 2019-03-09 2019-03-10 2019-03-11 2019-03-12 2019-03-13 2019-03-14 2019-03-15 2019-03-16 2019-03-17 2019-03-18 2019-03-19 2019-03-20 2019-03-21 2019-03-22 2019-03-23 2019-03-24 2019-03-25 2019-03-26 2019-03-27 2019-03-28 2019-03-29 2019-03-30 2019-03-31 2019-04-01 2019-04-02 2019-04-03 2019-04-04 2019-04-05 2019-04-06 2019-04-07 2019-04-08 2019-04-09 2019-04-10 2019-04-11 2019-04-12 2019-04-13 2019-04-14 2019-04-15 2019-04-16 2019-04-17 2019-04-18 2019-04-19 2019-04-20 2019-04-21 2019-04-22 2019-04-23 2019-04-24 2019-04-25 2019-04-26 2019-04-27 2019-04-28 2019-04-29 2019-04-30 2019-05-01 2019-05-02 2019-05-03 2019-05-04 2019-05-05 2019-05-06 2019-05-07 2019-05-08 2019-05-09 2019-05-10 2019-05-11 2019-05-12 2019-05-13 2019-05-14 2019-05-15 2019-05-16 2019-05-17 2019-05-18 2019-05-19 2019-05-20 2019-05-21 2019-05-22 2019-05-23 2019-05-24 2019-05-25 2019-05-26 2019-05-28 2019-05-29 2019-05-30 2019-05-31 2019-06-01 2019-06-02 2019-06-03 2019-06-04 2019-05-27 2019-06-05 2019-06-06 2020-05-23 2020-05-24 2020-05-25 2020-05-26 ']\n"
     ]
    }
   ],
   "source": [
    "import pandas as pd \n",
    "from tqdm import tqdm, tnrange\n",
    "import numpy as np\n",
    "import matplotlib.pyplot as plt\n",
    "\n",
    "curr_list = ['EURUSD', 'GBPUSD', 'USDJPY', 'USDCAD']\n",
    "\n",
    "text_file = open(\"Data/Database_content.txt\", \"r\")\n",
    "lines = text_file.readlines()\n",
    "print(lines)\n",
    "text_file.close()\n",
    "# These are all dates that we have in the database"
   ]
  },
  {
   "cell_type": "code",
   "execution_count": null,
   "metadata": {},
   "outputs": [
    {
     "data": {
      "application/vnd.jupyter.widget-view+json": {
       "model_id": "a77d3418213e4888833b682a986b2de1",
       "version_major": 2,
       "version_minor": 0
      },
      "text/plain": [
       "HBox(children=(IntProgress(value=0, max=4), HTML(value='')))"
      ]
     },
     "metadata": {},
     "output_type": "display_data"
    },
    {
     "name": "stdout",
     "output_type": "stream",
     "text": [
      "Run merging for mergedEURUSD\n",
      "2019-01-07\n",
      "2019-01-08\n",
      "2019-01-09\n",
      "2019-01-11\n",
      "2019-01-12\n",
      "2019-01-13\n"
     ]
    },
    {
     "name": "stderr",
     "output_type": "stream",
     "text": [
      "b'Skipping line 253: expected 4 fields, saw 6\\nSkipping line 365: expected 4 fields, saw 5\\n'\n",
      "b'Skipping line 276: expected 4 fields, saw 5\\nSkipping line 420: expected 4 fields, saw 5\\nSkipping line 877: expected 4 fields, saw 6\\n'\n",
      "b'Skipping line 512: expected 4 fields, saw 5\\n'\n",
      "b'Skipping line 463: expected 4 fields, saw 5\\nSkipping line 770: expected 4 fields, saw 5\\n'\n"
     ]
    },
    {
     "name": "stdout",
     "output_type": "stream",
     "text": [
      "2019-01-14\n",
      "2019-01-10\n",
      "2019-01-15\n",
      "2019-01-16\n"
     ]
    },
    {
     "name": "stderr",
     "output_type": "stream",
     "text": [
      "b'Skipping line 38: expected 4 fields, saw 6\\nSkipping line 1027: expected 4 fields, saw 5\\n'\n",
      "b'Skipping line 127: expected 4 fields, saw 6\\nSkipping line 406: expected 4 fields, saw 5\\n'\n",
      "b'Skipping line 218: expected 4 fields, saw 6\\nSkipping line 566: expected 4 fields, saw 5\\n'\n"
     ]
    },
    {
     "name": "stdout",
     "output_type": "stream",
     "text": [
      "2019-01-17\n",
      "2019-01-18\n",
      "2019-01-19\n"
     ]
    },
    {
     "name": "stderr",
     "output_type": "stream",
     "text": [
      "b'Skipping line 810: expected 4 fields, saw 5\\n'\n",
      "b'Skipping line 82: expected 4 fields, saw 5\\n'\n"
     ]
    },
    {
     "name": "stdout",
     "output_type": "stream",
     "text": [
      "2019-01-20\n",
      "2019-01-21\n",
      "2019-01-22\n"
     ]
    },
    {
     "name": "stderr",
     "output_type": "stream",
     "text": [
      "b'Skipping line 86: expected 4 fields, saw 5\\n'\n",
      "b'Skipping line 125: expected 4 fields, saw 5\\nSkipping line 264: expected 4 fields, saw 5\\n'\n"
     ]
    },
    {
     "name": "stdout",
     "output_type": "stream",
     "text": [
      "2019-01-23\n",
      "2019-01-24\n"
     ]
    },
    {
     "name": "stderr",
     "output_type": "stream",
     "text": [
      "b'Skipping line 1008: expected 4 fields, saw 5\\nSkipping line 1309: expected 4 fields, saw 5\\n'\n",
      "b'Skipping line 648: expected 4 fields, saw 5\\nSkipping line 873: expected 4 fields, saw 5\\n'\n"
     ]
    },
    {
     "name": "stdout",
     "output_type": "stream",
     "text": [
      "2019-01-25\n",
      "2019-01-26\n",
      "2019-01-27\n",
      "2019-01-28\n",
      "2019-01-29\n",
      "2019-01-30\n"
     ]
    },
    {
     "name": "stderr",
     "output_type": "stream",
     "text": [
      "b'Skipping line 258: expected 4 fields, saw 5\\n'\n",
      "b'Skipping line 319: expected 4 fields, saw 5\\nSkipping line 851: expected 4 fields, saw 5\\n'\n"
     ]
    },
    {
     "name": "stdout",
     "output_type": "stream",
     "text": [
      "2019-01-31\n",
      "2019-02-01\n"
     ]
    },
    {
     "name": "stderr",
     "output_type": "stream",
     "text": [
      "b'Skipping line 36: expected 4 fields, saw 5\\nSkipping line 403: expected 4 fields, saw 5\\n'\n",
      "b'Skipping line 55: expected 4 fields, saw 5\\nSkipping line 385: expected 4 fields, saw 5\\n'\n"
     ]
    },
    {
     "name": "stdout",
     "output_type": "stream",
     "text": [
      "2019-02-02\n",
      "2019-02-03\n",
      "2019-02-04\n"
     ]
    },
    {
     "name": "stderr",
     "output_type": "stream",
     "text": [
      "b'Skipping line 470: expected 4 fields, saw 5\\n'\n"
     ]
    },
    {
     "name": "stdout",
     "output_type": "stream",
     "text": [
      "2019-02-05\n",
      "2019-02-06\n"
     ]
    },
    {
     "name": "stderr",
     "output_type": "stream",
     "text": [
      "b'Skipping line 72: expected 4 fields, saw 5\\nSkipping line 230: expected 4 fields, saw 5\\n'\n"
     ]
    },
    {
     "name": "stdout",
     "output_type": "stream",
     "text": [
      "2019-02-07\n"
     ]
    },
    {
     "name": "stderr",
     "output_type": "stream",
     "text": [
      "b'Skipping line 582: expected 4 fields, saw 5\\n'\n"
     ]
    },
    {
     "name": "stdout",
     "output_type": "stream",
     "text": [
      "2019-02-08\n"
     ]
    },
    {
     "name": "stderr",
     "output_type": "stream",
     "text": [
      "b'Skipping line 327: expected 4 fields, saw 5\\n'\n"
     ]
    },
    {
     "name": "stdout",
     "output_type": "stream",
     "text": [
      "2019-02-09\n",
      "2019-02-10\n"
     ]
    },
    {
     "name": "stderr",
     "output_type": "stream",
     "text": [
      "b'Skipping line 59: expected 4 fields, saw 5\\n'\n"
     ]
    },
    {
     "name": "stdout",
     "output_type": "stream",
     "text": [
      "2019-02-11\n"
     ]
    },
    {
     "name": "stderr",
     "output_type": "stream",
     "text": [
      "b'Skipping line 168: expected 4 fields, saw 5\\nSkipping line 174: expected 4 fields, saw 5\\nSkipping line 198: expected 4 fields, saw 5\\nSkipping line 200: expected 4 fields, saw 5\\nSkipping line 346: expected 4 fields, saw 5\\n'\n"
     ]
    },
    {
     "name": "stdout",
     "output_type": "stream",
     "text": [
      "2019-02-12\n"
     ]
    },
    {
     "name": "stderr",
     "output_type": "stream",
     "text": [
      "b'Skipping line 284: expected 4 fields, saw 5\\nSkipping line 568: expected 4 fields, saw 5\\nSkipping line 852: expected 4 fields, saw 7\\n'\n"
     ]
    },
    {
     "name": "stdout",
     "output_type": "stream",
     "text": [
      "2019-02-13\n"
     ]
    },
    {
     "name": "stderr",
     "output_type": "stream",
     "text": [
      "b'Skipping line 38: expected 4 fields, saw 5\\nSkipping line 573: expected 4 fields, saw 5\\nSkipping line 908: expected 4 fields, saw 5\\nSkipping line 1171: expected 4 fields, saw 5\\n'\n"
     ]
    },
    {
     "name": "stdout",
     "output_type": "stream",
     "text": [
      "2019-02-14\n"
     ]
    },
    {
     "name": "stderr",
     "output_type": "stream",
     "text": [
      "b'Skipping line 407: expected 4 fields, saw 5\\n'\n"
     ]
    },
    {
     "name": "stdout",
     "output_type": "stream",
     "text": [
      "2019-02-15\n",
      "2019-02-16\n",
      "2019-02-17\n",
      "2019-02-18\n"
     ]
    },
    {
     "name": "stderr",
     "output_type": "stream",
     "text": [
      "b'Skipping line 378: expected 4 fields, saw 5\\nSkipping line 611: expected 4 fields, saw 5\\n'\n"
     ]
    },
    {
     "name": "stdout",
     "output_type": "stream",
     "text": [
      "2019-02-19\n"
     ]
    },
    {
     "name": "stderr",
     "output_type": "stream",
     "text": [
      "b'Skipping line 1737: expected 4 fields, saw 5\\nSkipping line 3539: expected 4 fields, saw 5\\n'\n"
     ]
    },
    {
     "name": "stdout",
     "output_type": "stream",
     "text": [
      "2019-02-20\n"
     ]
    },
    {
     "name": "stderr",
     "output_type": "stream",
     "text": [
      "b'Skipping line 905: expected 4 fields, saw 7\\nSkipping line 926: expected 4 fields, saw 5\\nSkipping line 1207: expected 4 fields, saw 5\\n'\n"
     ]
    },
    {
     "name": "stdout",
     "output_type": "stream",
     "text": [
      "2019-02-21\n"
     ]
    },
    {
     "name": "stderr",
     "output_type": "stream",
     "text": [
      "b'Skipping line 605: expected 4 fields, saw 5\\nSkipping line 2015: expected 4 fields, saw 5\\n'\n"
     ]
    },
    {
     "name": "stdout",
     "output_type": "stream",
     "text": [
      "2019-02-22\n",
      "2019-02-23\n",
      "2019-02-24\n",
      "2019-02-25\n",
      "2019-02-26\n",
      "2019-02-27\n"
     ]
    },
    {
     "name": "stderr",
     "output_type": "stream",
     "text": [
      "b'Skipping line 635: expected 4 fields, saw 5\\n'\n"
     ]
    },
    {
     "name": "stdout",
     "output_type": "stream",
     "text": [
      "2019-02-28\n"
     ]
    },
    {
     "name": "stderr",
     "output_type": "stream",
     "text": [
      "b'Skipping line 1104: expected 4 fields, saw 5\\n'\n"
     ]
    },
    {
     "name": "stdout",
     "output_type": "stream",
     "text": [
      "2019-03-01\n"
     ]
    },
    {
     "name": "stderr",
     "output_type": "stream",
     "text": [
      "b'Skipping line 642: expected 4 fields, saw 5\\nSkipping line 643: expected 4 fields, saw 5\\nSkipping line 700: expected 4 fields, saw 5\\n'\n"
     ]
    },
    {
     "name": "stdout",
     "output_type": "stream",
     "text": [
      "2019-03-02\n",
      "2019-03-03\n",
      "2019-03-04\n",
      "2019-03-05\n"
     ]
    },
    {
     "name": "stderr",
     "output_type": "stream",
     "text": [
      "b'Skipping line 192: expected 4 fields, saw 5\\nSkipping line 539: expected 4 fields, saw 5\\n'\n"
     ]
    },
    {
     "name": "stdout",
     "output_type": "stream",
     "text": [
      "2019-03-06\n",
      "2019-03-07\n"
     ]
    },
    {
     "name": "stderr",
     "output_type": "stream",
     "text": [
      "b'Skipping line 14: expected 4 fields, saw 5\\nSkipping line 153: expected 4 fields, saw 5\\nSkipping line 509: expected 4 fields, saw 5\\nSkipping line 520: expected 4 fields, saw 5\\nSkipping line 646: expected 4 fields, saw 5\\nSkipping line 897: expected 4 fields, saw 5\\nSkipping line 1040: expected 4 fields, saw 5\\nSkipping line 1190: expected 4 fields, saw 5\\nSkipping line 1490: expected 4 fields, saw 6\\n'\n"
     ]
    },
    {
     "name": "stdout",
     "output_type": "stream",
     "text": [
      "2019-03-08\n"
     ]
    },
    {
     "name": "stderr",
     "output_type": "stream",
     "text": [
      "b'Skipping line 385: expected 4 fields, saw 5\\nSkipping line 864: expected 4 fields, saw 6\\n'\n"
     ]
    },
    {
     "name": "stdout",
     "output_type": "stream",
     "text": [
      "2019-03-09\n",
      "2019-03-10\n",
      "2019-03-11\n"
     ]
    },
    {
     "name": "stderr",
     "output_type": "stream",
     "text": [
      "b'Skipping line 276: expected 4 fields, saw 5\\nSkipping line 425: expected 4 fields, saw 5\\nSkipping line 598: expected 4 fields, saw 5\\n'\n"
     ]
    },
    {
     "name": "stdout",
     "output_type": "stream",
     "text": [
      "2019-03-12\n"
     ]
    },
    {
     "name": "stderr",
     "output_type": "stream",
     "text": [
      "b'Skipping line 130: expected 4 fields, saw 5\\nSkipping line 723: expected 4 fields, saw 6\\n'\n"
     ]
    },
    {
     "name": "stdout",
     "output_type": "stream",
     "text": [
      "2019-03-13\n"
     ]
    },
    {
     "name": "stderr",
     "output_type": "stream",
     "text": [
      "b'Skipping line 114: expected 4 fields, saw 5\\nSkipping line 139: expected 4 fields, saw 5\\nSkipping line 158: expected 4 fields, saw 5\\nSkipping line 160: expected 4 fields, saw 5\\n'\n"
     ]
    },
    {
     "name": "stdout",
     "output_type": "stream",
     "text": [
      "2019-03-14\n"
     ]
    },
    {
     "name": "stderr",
     "output_type": "stream",
     "text": [
      "b'Skipping line 122: expected 4 fields, saw 6\\n'\n"
     ]
    },
    {
     "name": "stdout",
     "output_type": "stream",
     "text": [
      "2019-03-15\n",
      "2019-03-16\n"
     ]
    },
    {
     "name": "stderr",
     "output_type": "stream",
     "text": [
      "b'Skipping line 4: expected 4 fields, saw 5\\nSkipping line 59: expected 4 fields, saw 5\\n'\n"
     ]
    },
    {
     "name": "stdout",
     "output_type": "stream",
     "text": [
      "2019-03-17\n",
      "2019-03-18\n"
     ]
    },
    {
     "name": "stderr",
     "output_type": "stream",
     "text": [
      "b'Skipping line 37: expected 4 fields, saw 5\\nSkipping line 356: expected 4 fields, saw 5\\nSkipping line 443: expected 4 fields, saw 5\\nSkipping line 562: expected 4 fields, saw 6\\nSkipping line 722: expected 4 fields, saw 5\\n'\n"
     ]
    },
    {
     "name": "stdout",
     "output_type": "stream",
     "text": [
      "2019-03-19\n"
     ]
    },
    {
     "name": "stderr",
     "output_type": "stream",
     "text": [
      "b'Skipping line 34: expected 4 fields, saw 5\\nSkipping line 470: expected 4 fields, saw 5\\nSkipping line 521: expected 4 fields, saw 5\\nSkipping line 718: expected 4 fields, saw 5\\nSkipping line 758: expected 4 fields, saw 5\\n'\n"
     ]
    },
    {
     "name": "stdout",
     "output_type": "stream",
     "text": [
      "2019-03-20\n"
     ]
    },
    {
     "name": "stderr",
     "output_type": "stream",
     "text": [
      "b'Skipping line 152: expected 4 fields, saw 6\\nSkipping line 257: expected 4 fields, saw 5\\nSkipping line 307: expected 4 fields, saw 5\\nSkipping line 1086: expected 4 fields, saw 5\\n'\n"
     ]
    },
    {
     "name": "stdout",
     "output_type": "stream",
     "text": [
      "2019-03-21\n"
     ]
    },
    {
     "name": "stderr",
     "output_type": "stream",
     "text": [
      "b'Skipping line 319: expected 4 fields, saw 5\\nSkipping line 498: expected 4 fields, saw 5\\nSkipping line 499: expected 4 fields, saw 5\\nSkipping line 500: expected 4 fields, saw 5\\nSkipping line 501: expected 4 fields, saw 5\\nSkipping line 502: expected 4 fields, saw 5\\nSkipping line 774: expected 4 fields, saw 5\\nSkipping line 804: expected 4 fields, saw 6\\nSkipping line 1087: expected 4 fields, saw 5\\nSkipping line 1202: expected 4 fields, saw 5\\n'\n"
     ]
    },
    {
     "name": "stdout",
     "output_type": "stream",
     "text": [
      "2019-03-22\n",
      "2019-03-23\n",
      "2019-03-24\n",
      "2019-03-25\n"
     ]
    },
    {
     "name": "stderr",
     "output_type": "stream",
     "text": [
      "b'Skipping line 364: expected 4 fields, saw 5\\n'\n"
     ]
    },
    {
     "name": "stdout",
     "output_type": "stream",
     "text": [
      "2019-03-26\n"
     ]
    },
    {
     "name": "stderr",
     "output_type": "stream",
     "text": [
      "b'Skipping line 679: expected 4 fields, saw 5\\n'\n"
     ]
    },
    {
     "name": "stdout",
     "output_type": "stream",
     "text": [
      "2019-03-27\n"
     ]
    },
    {
     "name": "stderr",
     "output_type": "stream",
     "text": [
      "b'Skipping line 234: expected 4 fields, saw 5\\nSkipping line 1257: expected 4 fields, saw 5\\n'\n"
     ]
    },
    {
     "name": "stdout",
     "output_type": "stream",
     "text": [
      "2019-03-28\n"
     ]
    },
    {
     "name": "stderr",
     "output_type": "stream",
     "text": [
      "b'Skipping line 687: expected 4 fields, saw 6\\nSkipping line 875: expected 4 fields, saw 5\\n'\n"
     ]
    },
    {
     "name": "stdout",
     "output_type": "stream",
     "text": [
      "2019-03-29\n"
     ]
    },
    {
     "name": "stderr",
     "output_type": "stream",
     "text": [
      "b'Skipping line 231: expected 4 fields, saw 5\\nSkipping line 278: expected 4 fields, saw 5\\nSkipping line 687: expected 4 fields, saw 5\\n'\n"
     ]
    },
    {
     "name": "stdout",
     "output_type": "stream",
     "text": [
      "2019-03-30\n",
      "2019-03-31\n",
      "2019-04-01\n"
     ]
    },
    {
     "name": "stderr",
     "output_type": "stream",
     "text": [
      "b'Skipping line 111: expected 4 fields, saw 5\\n'\n"
     ]
    },
    {
     "name": "stdout",
     "output_type": "stream",
     "text": [
      "2019-04-02\n"
     ]
    },
    {
     "name": "stderr",
     "output_type": "stream",
     "text": [
      "b'Skipping line 243: expected 4 fields, saw 5\\nSkipping line 257: expected 4 fields, saw 5\\nSkipping line 810: expected 4 fields, saw 7\\n'\n"
     ]
    },
    {
     "name": "stdout",
     "output_type": "stream",
     "text": [
      "2019-04-03\n"
     ]
    },
    {
     "name": "stderr",
     "output_type": "stream",
     "text": [
      "b'Skipping line 456: expected 4 fields, saw 6\\n'\n"
     ]
    },
    {
     "name": "stdout",
     "output_type": "stream",
     "text": [
      "2019-04-04\n"
     ]
    },
    {
     "name": "stderr",
     "output_type": "stream",
     "text": [
      "b'Skipping line 251: expected 4 fields, saw 5\\nSkipping line 580: expected 4 fields, saw 5\\n'\n"
     ]
    },
    {
     "name": "stdout",
     "output_type": "stream",
     "text": [
      "2019-04-05\n",
      "2019-04-06\n",
      "2019-04-07\n"
     ]
    },
    {
     "name": "stderr",
     "output_type": "stream",
     "text": [
      "b'Skipping line 140: expected 4 fields, saw 5\\n'\n"
     ]
    },
    {
     "name": "stdout",
     "output_type": "stream",
     "text": [
      "2019-04-08\n"
     ]
    },
    {
     "name": "stderr",
     "output_type": "stream",
     "text": [
      "b'Skipping line 178: expected 4 fields, saw 5\\nSkipping line 531: expected 4 fields, saw 5\\n'\n"
     ]
    },
    {
     "name": "stdout",
     "output_type": "stream",
     "text": [
      "2019-04-09\n"
     ]
    },
    {
     "name": "stderr",
     "output_type": "stream",
     "text": [
      "b'Skipping line 385: expected 4 fields, saw 5\\n'\n"
     ]
    },
    {
     "name": "stdout",
     "output_type": "stream",
     "text": [
      "2019-04-10\n"
     ]
    },
    {
     "name": "stderr",
     "output_type": "stream",
     "text": [
      "b'Skipping line 96: expected 4 fields, saw 5\\nSkipping line 603: expected 4 fields, saw 5\\nSkipping line 671: expected 4 fields, saw 5\\n'\n"
     ]
    },
    {
     "name": "stdout",
     "output_type": "stream",
     "text": [
      "2019-04-11\n"
     ]
    },
    {
     "name": "stderr",
     "output_type": "stream",
     "text": [
      "b'Skipping line 221: expected 4 fields, saw 5\\n'\n"
     ]
    },
    {
     "name": "stdout",
     "output_type": "stream",
     "text": [
      "2019-04-12\n"
     ]
    },
    {
     "name": "stderr",
     "output_type": "stream",
     "text": [
      "b'Skipping line 317: expected 4 fields, saw 5\\nSkipping line 484: expected 4 fields, saw 5\\nSkipping line 819: expected 4 fields, saw 5\\n'\n"
     ]
    },
    {
     "name": "stdout",
     "output_type": "stream",
     "text": [
      "2019-04-13\n",
      "2019-04-14\n",
      "2019-04-15\n",
      "2019-04-16\n"
     ]
    },
    {
     "name": "stderr",
     "output_type": "stream",
     "text": [
      "b'Skipping line 154: expected 4 fields, saw 5\\nSkipping line 318: expected 4 fields, saw 5\\nSkipping line 339: expected 4 fields, saw 5\\nSkipping line 789: expected 4 fields, saw 5\\n'\n"
     ]
    },
    {
     "name": "stdout",
     "output_type": "stream",
     "text": [
      "2019-04-17\n"
     ]
    },
    {
     "name": "stderr",
     "output_type": "stream",
     "text": [
      "b'Skipping line 473: expected 4 fields, saw 5\\nSkipping line 860: expected 4 fields, saw 5\\nSkipping line 862: expected 4 fields, saw 5\\n'\n"
     ]
    },
    {
     "name": "stdout",
     "output_type": "stream",
     "text": [
      "2019-04-18\n"
     ]
    },
    {
     "name": "stderr",
     "output_type": "stream",
     "text": [
      "b'Skipping line 343: expected 4 fields, saw 5\\nSkipping line 455: expected 4 fields, saw 5\\nSkipping line 989: expected 4 fields, saw 5\\n'\n"
     ]
    },
    {
     "name": "stdout",
     "output_type": "stream",
     "text": [
      "2019-04-19\n",
      "2019-04-20\n",
      "2019-04-21\n"
     ]
    },
    {
     "name": "stderr",
     "output_type": "stream",
     "text": [
      "b'Skipping line 6: expected 4 fields, saw 6\\n'\n"
     ]
    },
    {
     "name": "stdout",
     "output_type": "stream",
     "text": [
      "2019-04-22\n"
     ]
    },
    {
     "name": "stderr",
     "output_type": "stream",
     "text": [
      "b'Skipping line 143: expected 4 fields, saw 5\\n'\n"
     ]
    },
    {
     "name": "stdout",
     "output_type": "stream",
     "text": [
      "2019-04-23\n"
     ]
    },
    {
     "name": "stderr",
     "output_type": "stream",
     "text": [
      "b'Skipping line 199: expected 4 fields, saw 5\\nSkipping line 247: expected 4 fields, saw 5\\nSkipping line 781: expected 4 fields, saw 5\\nSkipping line 887: expected 4 fields, saw 5\\nSkipping line 907: expected 4 fields, saw 5\\n'\n"
     ]
    },
    {
     "name": "stdout",
     "output_type": "stream",
     "text": [
      "2019-04-24\n"
     ]
    },
    {
     "name": "stderr",
     "output_type": "stream",
     "text": [
      "b'Skipping line 313: expected 4 fields, saw 5\\nSkipping line 973: expected 4 fields, saw 5\\n'\n"
     ]
    },
    {
     "name": "stdout",
     "output_type": "stream",
     "text": [
      "2019-04-25\n"
     ]
    },
    {
     "name": "stderr",
     "output_type": "stream",
     "text": [
      "b'Skipping line 378: expected 4 fields, saw 5\\n'\n"
     ]
    },
    {
     "name": "stdout",
     "output_type": "stream",
     "text": [
      "2019-04-26\n"
     ]
    },
    {
     "name": "stderr",
     "output_type": "stream",
     "text": [
      "b'Skipping line 489: expected 4 fields, saw 5\\nSkipping line 497: expected 4 fields, saw 5\\n'\n"
     ]
    },
    {
     "name": "stdout",
     "output_type": "stream",
     "text": [
      "2019-04-27\n"
     ]
    },
    {
     "name": "stderr",
     "output_type": "stream",
     "text": [
      "b'Skipping line 63: expected 4 fields, saw 6\\nSkipping line 64: expected 4 fields, saw 6\\n'\n"
     ]
    },
    {
     "name": "stdout",
     "output_type": "stream",
     "text": [
      "2019-04-28\n",
      "2019-04-29\n"
     ]
    },
    {
     "name": "stderr",
     "output_type": "stream",
     "text": [
      "b'Skipping line 78: expected 4 fields, saw 5\\nSkipping line 419: expected 4 fields, saw 5\\n'\n"
     ]
    },
    {
     "name": "stdout",
     "output_type": "stream",
     "text": [
      "2019-04-30\n",
      "2019-05-01\n"
     ]
    },
    {
     "name": "stderr",
     "output_type": "stream",
     "text": [
      "b'Skipping line 574: expected 4 fields, saw 5\\nSkipping line 910: expected 4 fields, saw 5\\n'\n"
     ]
    },
    {
     "name": "stdout",
     "output_type": "stream",
     "text": [
      "2019-05-02\n"
     ]
    },
    {
     "name": "stderr",
     "output_type": "stream",
     "text": [
      "b'Skipping line 676: expected 4 fields, saw 5\\n'\n"
     ]
    },
    {
     "name": "stdout",
     "output_type": "stream",
     "text": [
      "2019-05-03\n"
     ]
    },
    {
     "name": "stderr",
     "output_type": "stream",
     "text": [
      "b'Skipping line 662: expected 4 fields, saw 5\\nSkipping line 911: expected 4 fields, saw 5\\n'\n"
     ]
    },
    {
     "name": "stdout",
     "output_type": "stream",
     "text": [
      "2019-05-04\n",
      "2019-05-05\n",
      "2019-05-06\n"
     ]
    },
    {
     "name": "stderr",
     "output_type": "stream",
     "text": [
      "b'Skipping line 447: expected 4 fields, saw 5\\n'\n"
     ]
    },
    {
     "name": "stdout",
     "output_type": "stream",
     "text": [
      "2019-05-07\n"
     ]
    },
    {
     "name": "stderr",
     "output_type": "stream",
     "text": [
      "b'Skipping line 726: expected 4 fields, saw 5\\n'\n"
     ]
    },
    {
     "name": "stdout",
     "output_type": "stream",
     "text": [
      "2019-05-08\n"
     ]
    },
    {
     "name": "stderr",
     "output_type": "stream",
     "text": [
      "b'Skipping line 604: expected 4 fields, saw 5\\n'\n"
     ]
    },
    {
     "name": "stdout",
     "output_type": "stream",
     "text": [
      "2019-05-09\n",
      "2019-05-10\n"
     ]
    },
    {
     "name": "stderr",
     "output_type": "stream",
     "text": [
      "b'Skipping line 198: expected 4 fields, saw 5\\n'\n"
     ]
    },
    {
     "name": "stdout",
     "output_type": "stream",
     "text": [
      "2019-05-11\n",
      "2019-05-12\n",
      "2019-05-13\n"
     ]
    },
    {
     "name": "stderr",
     "output_type": "stream",
     "text": [
      "b'Skipping line 174: expected 4 fields, saw 5\\nSkipping line 336: expected 4 fields, saw 5\\n'\n"
     ]
    },
    {
     "name": "stdout",
     "output_type": "stream",
     "text": [
      "2019-05-14\n"
     ]
    },
    {
     "name": "stderr",
     "output_type": "stream",
     "text": [
      "b'Skipping line 496: expected 4 fields, saw 5\\n'\n"
     ]
    },
    {
     "name": "stdout",
     "output_type": "stream",
     "text": [
      "2019-05-15\n"
     ]
    },
    {
     "name": "stderr",
     "output_type": "stream",
     "text": [
      "b'Skipping line 635: expected 4 fields, saw 5\\n'\n"
     ]
    },
    {
     "name": "stdout",
     "output_type": "stream",
     "text": [
      "2019-05-16\n"
     ]
    },
    {
     "name": "stderr",
     "output_type": "stream",
     "text": [
      "b'Skipping line 137: expected 4 fields, saw 5\\n'\n"
     ]
    },
    {
     "name": "stdout",
     "output_type": "stream",
     "text": [
      "2019-05-17\n",
      "2019-05-18\n",
      "2019-05-19\n"
     ]
    },
    {
     "name": "stderr",
     "output_type": "stream",
     "text": [
      "b'Skipping line 104: expected 4 fields, saw 5\\n'\n"
     ]
    },
    {
     "name": "stdout",
     "output_type": "stream",
     "text": [
      "2019-05-20\n"
     ]
    },
    {
     "name": "stderr",
     "output_type": "stream",
     "text": [
      "b'Skipping line 341: expected 4 fields, saw 6\\n'\n"
     ]
    },
    {
     "name": "stdout",
     "output_type": "stream",
     "text": [
      "2019-05-21\n",
      "2019-05-22\n"
     ]
    },
    {
     "name": "stderr",
     "output_type": "stream",
     "text": [
      "b'Skipping line 557: expected 4 fields, saw 5\\n'\n"
     ]
    },
    {
     "name": "stdout",
     "output_type": "stream",
     "text": [
      "2019-05-23\n"
     ]
    },
    {
     "name": "stderr",
     "output_type": "stream",
     "text": [
      "b'Skipping line 195: expected 4 fields, saw 5\\n'\n"
     ]
    },
    {
     "name": "stdout",
     "output_type": "stream",
     "text": [
      "2019-05-24\n"
     ]
    },
    {
     "name": "stderr",
     "output_type": "stream",
     "text": [
      "b'Skipping line 307: expected 4 fields, saw 6\\n'\n"
     ]
    },
    {
     "name": "stdout",
     "output_type": "stream",
     "text": [
      "2019-05-25\n",
      "2019-05-26\n",
      "2019-05-28\n"
     ]
    },
    {
     "name": "stderr",
     "output_type": "stream",
     "text": [
      "b'Skipping line 299: expected 4 fields, saw 5\\n'\n"
     ]
    },
    {
     "name": "stdout",
     "output_type": "stream",
     "text": [
      "2019-05-29\n"
     ]
    },
    {
     "name": "stderr",
     "output_type": "stream",
     "text": [
      "b'Skipping line 4: expected 4 fields, saw 5\\nSkipping line 356: expected 4 fields, saw 6\\nSkipping line 515: expected 4 fields, saw 5\\n'\n"
     ]
    },
    {
     "name": "stdout",
     "output_type": "stream",
     "text": [
      "2019-05-30\n"
     ]
    },
    {
     "name": "stderr",
     "output_type": "stream",
     "text": [
      "b'Skipping line 213: expected 4 fields, saw 5\\nSkipping line 284: expected 4 fields, saw 6\\n'\n"
     ]
    },
    {
     "name": "stdout",
     "output_type": "stream",
     "text": [
      "2019-05-31\n"
     ]
    },
    {
     "name": "stderr",
     "output_type": "stream",
     "text": [
      "b'Skipping line 232: expected 4 fields, saw 5\\nSkipping line 286: expected 4 fields, saw 5\\nSkipping line 415: expected 4 fields, saw 5\\nSkipping line 427: expected 4 fields, saw 5\\n'\n"
     ]
    },
    {
     "name": "stdout",
     "output_type": "stream",
     "text": [
      "2019-06-01\n"
     ]
    },
    {
     "name": "stderr",
     "output_type": "stream",
     "text": [
      "b'Skipping line 29: expected 4 fields, saw 5\\n'\n"
     ]
    },
    {
     "name": "stdout",
     "output_type": "stream",
     "text": [
      "2019-06-02\n",
      "2019-06-03\n"
     ]
    },
    {
     "name": "stderr",
     "output_type": "stream",
     "text": [
      "b'Skipping line 33: expected 4 fields, saw 5\\nSkipping line 145: expected 4 fields, saw 5\\nSkipping line 566: expected 4 fields, saw 5\\nSkipping line 654: expected 4 fields, saw 5\\nSkipping line 749: expected 4 fields, saw 5\\nSkipping line 863: expected 4 fields, saw 5\\n'\n"
     ]
    },
    {
     "name": "stdout",
     "output_type": "stream",
     "text": [
      "2019-06-04\n"
     ]
    },
    {
     "name": "stderr",
     "output_type": "stream",
     "text": [
      "b'Skipping line 131: expected 4 fields, saw 5\\nSkipping line 252: expected 4 fields, saw 5\\nSkipping line 325: expected 4 fields, saw 5\\nSkipping line 462: expected 4 fields, saw 6\\nSkipping line 491: expected 4 fields, saw 6\\nSkipping line 610: expected 4 fields, saw 5\\n'\n"
     ]
    },
    {
     "name": "stdout",
     "output_type": "stream",
     "text": [
      "2019-05-27\n"
     ]
    },
    {
     "name": "stderr",
     "output_type": "stream",
     "text": [
      "b'Skipping line 290: expected 4 fields, saw 6\\n'\n"
     ]
    },
    {
     "name": "stdout",
     "output_type": "stream",
     "text": [
      "2019-06-05\n"
     ]
    },
    {
     "name": "stderr",
     "output_type": "stream",
     "text": [
      "b'Skipping line 58: expected 4 fields, saw 5\\nSkipping line 520: expected 4 fields, saw 5\\nSkipping line 577: expected 4 fields, saw 5\\nSkipping line 752: expected 4 fields, saw 6\\n'\n"
     ]
    },
    {
     "name": "stdout",
     "output_type": "stream",
     "text": [
      "2019-06-06\n"
     ]
    },
    {
     "name": "stderr",
     "output_type": "stream",
     "text": [
      "b'Skipping line 285: expected 4 fields, saw 5\\nSkipping line 384: expected 4 fields, saw 5\\nSkipping line 531: expected 4 fields, saw 5\\n'\n"
     ]
    },
    {
     "name": "stdout",
     "output_type": "stream",
     "text": [
      "2020-05-23\n"
     ]
    },
    {
     "name": "stderr",
     "output_type": "stream",
     "text": [
      "b'Skipping line 46: expected 4 fields, saw 5\\nSkipping line 48: expected 4 fields, saw 5\\nSkipping line 58: expected 4 fields, saw 5\\nSkipping line 61: expected 4 fields, saw 5\\n'\n"
     ]
    },
    {
     "name": "stdout",
     "output_type": "stream",
     "text": [
      "2020-05-24\n"
     ]
    },
    {
     "name": "stderr",
     "output_type": "stream",
     "text": [
      "b'Skipping line 148: expected 4 fields, saw 5\\nSkipping line 251: expected 4 fields, saw 5\\nSkipping line 279: expected 4 fields, saw 5\\n'\n"
     ]
    },
    {
     "name": "stdout",
     "output_type": "stream",
     "text": [
      "2020-05-25\n"
     ]
    },
    {
     "name": "stderr",
     "output_type": "stream",
     "text": [
      "b'Skipping line 125: expected 4 fields, saw 5\\nSkipping line 416: expected 4 fields, saw 6\\n'\n"
     ]
    },
    {
     "name": "stdout",
     "output_type": "stream",
     "text": [
      "2020-05-26\n",
      "Run merging for mergedGBPUSD\n",
      "2019-01-07\n",
      "2019-01-08\n",
      "2019-01-09\n",
      "2019-01-11\n",
      "2019-01-12\n",
      "2019-01-13\n",
      "2019-01-14\n"
     ]
    },
    {
     "name": "stderr",
     "output_type": "stream",
     "text": [
      "b'Skipping line 184: expected 4 fields, saw 5\\nSkipping line 383: expected 4 fields, saw 5\\n'\n",
      "b'Skipping line 82: expected 4 fields, saw 5\\n'\n",
      "b'Skipping line 13: expected 4 fields, saw 5\\n'\n",
      "b'Skipping line 431: expected 4 fields, saw 5\\nSkipping line 441: expected 4 fields, saw 5\\n'\n",
      "b'Skipping line 38: expected 4 fields, saw 6\\nSkipping line 414: expected 4 fields, saw 5\\nSkipping line 460: expected 4 fields, saw 5\\nSkipping line 502: expected 4 fields, saw 5\\nSkipping line 608: expected 4 fields, saw 5\\nSkipping line 816: expected 4 fields, saw 5\\nSkipping line 861: expected 4 fields, saw 5\\nSkipping line 871: expected 4 fields, saw 5\\nSkipping line 875: expected 4 fields, saw 5\\nSkipping line 1040: expected 4 fields, saw 5\\n'\n"
     ]
    },
    {
     "name": "stdout",
     "output_type": "stream",
     "text": [
      "2019-01-10\n",
      "2019-01-15\n",
      "2019-01-16\n"
     ]
    },
    {
     "name": "stderr",
     "output_type": "stream",
     "text": [
      "b'Skipping line 18: expected 4 fields, saw 5\\nSkipping line 103: expected 4 fields, saw 6\\nSkipping line 428: expected 4 fields, saw 5\\n'\n",
      "b'Skipping line 128: expected 4 fields, saw 5\\nSkipping line 525: expected 4 fields, saw 5\\n'\n"
     ]
    },
    {
     "name": "stdout",
     "output_type": "stream",
     "text": [
      "2019-01-17\n",
      "2019-01-18\n",
      "2019-01-19\n",
      "2019-01-20\n",
      "2019-01-21\n",
      "2019-01-22\n",
      "2019-01-23\n"
     ]
    },
    {
     "name": "stderr",
     "output_type": "stream",
     "text": [
      "b'Skipping line 75: expected 4 fields, saw 5\\nSkipping line 362: expected 4 fields, saw 5\\n'\n",
      "b'Skipping line 584: expected 4 fields, saw 5\\n'\n"
     ]
    },
    {
     "name": "stdout",
     "output_type": "stream",
     "text": [
      "2019-01-24\n",
      "2019-01-25\n",
      "2019-01-26\n",
      "2019-01-27\n",
      "2019-01-28\n",
      "2019-01-29\n"
     ]
    },
    {
     "name": "stderr",
     "output_type": "stream",
     "text": [
      "b'Skipping line 76: expected 4 fields, saw 5\\nSkipping line 362: expected 4 fields, saw 5\\n'\n",
      "b'Skipping line 405: expected 4 fields, saw 5\\nSkipping line 478: expected 4 fields, saw 5\\n'\n"
     ]
    },
    {
     "name": "stdout",
     "output_type": "stream",
     "text": [
      "2019-01-30\n",
      "2019-01-31\n",
      "2019-02-01\n",
      "2019-02-02\n",
      "2019-02-03\n",
      "2019-02-04\n",
      "2019-02-05\n",
      "2019-02-06\n",
      "2019-02-07\n"
     ]
    },
    {
     "name": "stderr",
     "output_type": "stream",
     "text": [
      "b'Skipping line 250: expected 4 fields, saw 5\\n'\n"
     ]
    },
    {
     "name": "stdout",
     "output_type": "stream",
     "text": [
      "2019-02-08\n",
      "2019-02-09\n",
      "2019-02-10\n",
      "2019-02-11\n"
     ]
    },
    {
     "name": "stderr",
     "output_type": "stream",
     "text": [
      "b'Skipping line 7: expected 4 fields, saw 5\\n'\n",
      "b'Skipping line 60: expected 4 fields, saw 5\\nSkipping line 194: expected 4 fields, saw 5\\n'\n"
     ]
    },
    {
     "name": "stdout",
     "output_type": "stream",
     "text": [
      "2019-02-12\n",
      "2019-02-13\n"
     ]
    },
    {
     "name": "stderr",
     "output_type": "stream",
     "text": [
      "b'Skipping line 169: expected 4 fields, saw 5\\n'\n"
     ]
    },
    {
     "name": "stdout",
     "output_type": "stream",
     "text": [
      "2019-02-14\n",
      "2019-02-15\n"
     ]
    },
    {
     "name": "stderr",
     "output_type": "stream",
     "text": [
      "b'Skipping line 203: expected 4 fields, saw 5\\n'\n",
      "b'Skipping line 497: expected 4 fields, saw 5\\n'\n"
     ]
    },
    {
     "name": "stdout",
     "output_type": "stream",
     "text": [
      "2019-02-16\n",
      "2019-02-17\n",
      "2019-02-18\n",
      "2019-02-19\n"
     ]
    },
    {
     "name": "stderr",
     "output_type": "stream",
     "text": [
      "b'Skipping line 131: expected 4 fields, saw 5\\nSkipping line 315: expected 4 fields, saw 6\\n'\n",
      "b'Skipping line 133: expected 4 fields, saw 5\\nSkipping line 187: expected 4 fields, saw 5\\nSkipping line 212: expected 4 fields, saw 5\\nSkipping line 304: expected 4 fields, saw 5\\nSkipping line 783: expected 4 fields, saw 5\\n'\n"
     ]
    },
    {
     "name": "stdout",
     "output_type": "stream",
     "text": [
      "2019-02-20\n",
      "2019-02-21\n"
     ]
    },
    {
     "name": "stderr",
     "output_type": "stream",
     "text": [
      "b'Skipping line 71: expected 4 fields, saw 5\\nSkipping line 679: expected 4 fields, saw 5\\n'\n",
      "b'Skipping line 218: expected 4 fields, saw 5\\nSkipping line 273: expected 4 fields, saw 6\\nSkipping line 850: expected 4 fields, saw 5\\nSkipping line 905: expected 4 fields, saw 6\\n'\n"
     ]
    },
    {
     "name": "stdout",
     "output_type": "stream",
     "text": [
      "2019-02-22\n",
      "2019-02-23\n",
      "2019-02-24\n",
      "2019-02-25\n",
      "2019-02-26\n"
     ]
    },
    {
     "name": "stderr",
     "output_type": "stream",
     "text": [
      "b'Skipping line 614: expected 4 fields, saw 5\\n'\n"
     ]
    },
    {
     "name": "stdout",
     "output_type": "stream",
     "text": [
      "2019-02-27\n"
     ]
    },
    {
     "name": "stderr",
     "output_type": "stream",
     "text": [
      "b'Skipping line 605: expected 4 fields, saw 5\\n'\n"
     ]
    },
    {
     "name": "stdout",
     "output_type": "stream",
     "text": [
      "2019-02-28\n"
     ]
    },
    {
     "name": "stderr",
     "output_type": "stream",
     "text": [
      "b'Skipping line 451: expected 4 fields, saw 5\\n'\n"
     ]
    },
    {
     "name": "stdout",
     "output_type": "stream",
     "text": [
      "2019-03-01\n",
      "2019-03-02\n",
      "2019-03-03\n",
      "2019-03-04\n",
      "2019-03-05\n"
     ]
    },
    {
     "name": "stderr",
     "output_type": "stream",
     "text": [
      "b'Skipping line 491: expected 4 fields, saw 5\\nSkipping line 507: expected 4 fields, saw 5\\n'\n"
     ]
    },
    {
     "name": "stdout",
     "output_type": "stream",
     "text": [
      "2019-03-06\n"
     ]
    },
    {
     "name": "stderr",
     "output_type": "stream",
     "text": [
      "b'Skipping line 323: expected 4 fields, saw 6\\nSkipping line 460: expected 4 fields, saw 5\\n'\n"
     ]
    },
    {
     "name": "stdout",
     "output_type": "stream",
     "text": [
      "2019-03-07\n",
      "2019-03-08\n"
     ]
    },
    {
     "name": "stderr",
     "output_type": "stream",
     "text": [
      "b'Skipping line 58: expected 4 fields, saw 5\\nSkipping line 374: expected 4 fields, saw 5\\n'\n"
     ]
    },
    {
     "name": "stdout",
     "output_type": "stream",
     "text": [
      "2019-03-09\n",
      "2019-03-10\n",
      "2019-03-11\n"
     ]
    },
    {
     "name": "stderr",
     "output_type": "stream",
     "text": [
      "b'Skipping line 135: expected 4 fields, saw 5\\nSkipping line 352: expected 4 fields, saw 5\\nSkipping line 390: expected 4 fields, saw 5\\n'\n"
     ]
    },
    {
     "name": "stdout",
     "output_type": "stream",
     "text": [
      "2019-03-12\n"
     ]
    },
    {
     "name": "stderr",
     "output_type": "stream",
     "text": [
      "b'Skipping line 35: expected 4 fields, saw 5\\nSkipping line 127: expected 4 fields, saw 5\\nSkipping line 320: expected 4 fields, saw 7\\nSkipping line 574: expected 4 fields, saw 6\\nSkipping line 644: expected 4 fields, saw 6\\nSkipping line 864: expected 4 fields, saw 5\\n'\n"
     ]
    },
    {
     "name": "stdout",
     "output_type": "stream",
     "text": [
      "2019-03-13\n"
     ]
    },
    {
     "name": "stderr",
     "output_type": "stream",
     "text": [
      "b'Skipping line 255: expected 4 fields, saw 5\\nSkipping line 256: expected 4 fields, saw 5\\nSkipping line 797: expected 4 fields, saw 5\\n'\n"
     ]
    },
    {
     "name": "stdout",
     "output_type": "stream",
     "text": [
      "2019-03-14\n"
     ]
    },
    {
     "name": "stderr",
     "output_type": "stream",
     "text": [
      "b'Skipping line 152: expected 4 fields, saw 6\\nSkipping line 241: expected 4 fields, saw 5\\nSkipping line 676: expected 4 fields, saw 6\\nSkipping line 698: expected 4 fields, saw 6\\nSkipping line 816: expected 4 fields, saw 5\\n'\n"
     ]
    },
    {
     "name": "stdout",
     "output_type": "stream",
     "text": [
      "2019-03-15\n"
     ]
    },
    {
     "name": "stderr",
     "output_type": "stream",
     "text": [
      "b'Skipping line 255: expected 4 fields, saw 5\\n'\n"
     ]
    },
    {
     "name": "stdout",
     "output_type": "stream",
     "text": [
      "2019-03-16\n",
      "2019-03-17\n",
      "2019-03-18\n"
     ]
    },
    {
     "name": "stderr",
     "output_type": "stream",
     "text": [
      "b'Skipping line 53: expected 4 fields, saw 5\\n'\n"
     ]
    },
    {
     "name": "stdout",
     "output_type": "stream",
     "text": [
      "2019-03-19\n"
     ]
    },
    {
     "name": "stderr",
     "output_type": "stream",
     "text": [
      "b'Skipping line 51: expected 4 fields, saw 5\\nSkipping line 66: expected 4 fields, saw 5\\nSkipping line 90: expected 4 fields, saw 5\\nSkipping line 480: expected 4 fields, saw 5\\n'\n"
     ]
    }
   ],
   "source": [
    "for t in tnrange(len(curr_list)):\n",
    "    name = 'merged' + curr_list[t].replace(\"'\", \"\")\n",
    "    print('Run merging for {}'.format(name))\n",
    "    name = pd.DataFrame()\n",
    "    for i in range(0, 2000, 11):\n",
    "        date = lines[0][i:i+10]\n",
    "        if date != '':\n",
    "            print(date)\n",
    "            filename = 'Data/Testing_data/' + curr_list[t].replace(\"'\", \"\") + \"/\" + \\\n",
    "            curr_list[t].replace(\"'\", \"\") + 'TemporaryRaw' + date + '.csv'\n",
    "            file = pd.read_csv(filename, header=None, error_bad_lines=False)\n",
    "            name = pd.concat([file, name], axis=0)\n",
    "            name.to_csv('Data/Testing_data/' + curr_list[t].replace(\"'\", \"\") + \"/\" + \\\n",
    "                        'merged' + curr_list[t].replace(\"'\", \"\") + '.csv')"
   ]
  },
  {
   "cell_type": "code",
   "execution_count": 2,
   "metadata": {},
   "outputs": [
    {
     "name": "stdout",
     "output_type": "stream",
     "text": [
      "EURUSD (99007, 4)\n",
      "GBPUSD (58423, 4)\n",
      "USDCAD (34368, 4)\n",
      "USDJPY (42796, 4)\n"
     ]
    }
   ],
   "source": [
    "cols = ['id', 'username', 'tweet', 'date']\n",
    "\n",
    "name_eurusd = 'Data/Testing_data/EURUSD/mergedEURUSD.csv'\n",
    "eurusd = pd.read_csv(name_eurusd, names = cols, usecols = [1,2,3,4])\n",
    "\n",
    "name_gbpusd = 'Data/Testing_data/GBPUSD/mergedGBPUSD.csv'\n",
    "gbpusd = pd.read_csv(name_gbpusd, names = cols, usecols = [1,2,3,4])\n",
    "\n",
    "name_usdcad = 'Data/Testing_data/USDCAD/mergedUSDCAD.csv'\n",
    "usdcad = pd.read_csv(name_usdcad, names = cols, usecols = [1,2,3,4])\n",
    "\n",
    "name_usdjpy = 'Data/Testing_data/USDJPY/mergedUSDJPY.csv'\n",
    "usdjpy = pd.read_csv(name_usdjpy, names = cols, usecols = [1,2,3,4])\n",
    "\n",
    "eurusd.drop(eurusd.index[0], inplace = True)\n",
    "gbpusd.drop(gbpusd.index[0], inplace = True)\n",
    "usdcad.drop(usdcad.index[0], inplace = True)\n",
    "usdjpy.drop(usdjpy.index[0], inplace = True)\n",
    "\n",
    "print('EURUSD',eurusd.shape)\n",
    "print('GBPUSD',gbpusd.shape)\n",
    "print('USDCAD',usdcad.shape)\n",
    "print('USDJPY',usdjpy.shape)\n",
    "\n",
    "eurusd.to_csv('Data/Testing_data/EURUSD/mergedEURUSD.csv', header=False, index = False)\n",
    "gbpusd.to_csv('Data/Testing_data/GBPUSD/mergedGBPUSD.csv', header=False, index = False)\n",
    "usdcad.to_csv('Data/Testing_data/USDCAD/mergedUSDCAD.csv', header=False, index = False)\n",
    "usdjpy.to_csv('Data/Testing_data/USDJPY/mergedUSDJPY.csv', header=False, index = False)"
   ]
  },
  {
   "cell_type": "markdown",
   "metadata": {},
   "source": [
    "## Tweets database statistics"
   ]
  },
  {
   "cell_type": "code",
   "execution_count": 18,
   "metadata": {},
   "outputs": [
    {
     "data": {
      "image/png": "[encoded data removed]",
      "text/plain": [
       "<Figure size 432x288 with 1 Axes>"
      ]
     },
     "metadata": {
      "needs_background": "light"
     },
     "output_type": "display_data"
    }
   ],
   "source": [
    "currencies = ('EURUSD', 'GBPUSD', 'CADUSD', 'JPYUSD')\n",
    "y_pos = np.arange(len(currencies))\n",
    "\n",
    "performance = []\n",
    "performance.append(eurusd.shape[0])\n",
    "performance.append(gbpusd.shape[0])\n",
    "performance.append(usdcad.shape[0])\n",
    "performance.append(usdjpy.shape[0])\n",
    "\n",
    "plt.bar(y_pos, performance, align='center', alpha=0.9, color=['#008000', '#20B2AA', '#8A2BE2', '#6495ED'])\n",
    "plt.xticks(y_pos, currencies)\n",
    "plt.ylabel('Number of tweets collected',size=12)\n",
    "plt.xlabel('Currency pair', size=12)\n",
    "for i in range(len(currencies)):\n",
    "    plt.text(x = y_pos[i]-0.3, y = performance[i], s = performance[i], size = 12)\n",
    "\n",
    "plt.show()"
   ]
  },
  {
   "cell_type": "code",
   "execution_count": 25,
   "metadata": {},
   "outputs": [
    {
     "data": {
      "image/png": "[encoded data removed]",
      "text/plain": [
       "<Figure size 720x360 with 1 Axes>"
      ]
     },
     "metadata": {
      "needs_background": "light"
     },
     "output_type": "display_data"
    }
   ],
   "source": [
    "currencies1 = ('EURUSD', 'GBPUSD', 'JPYUSD', 'CADUSD', 'AUDUSD', 'CHFUSD', 'NZDUSD')\n",
    "y_pos1 = np.arange(len(currencies1))\n",
    "\n",
    "performance1 = []\n",
    "performance1.append(707.2)\n",
    "performance1.append(417.7)\n",
    "performance1.append(305.7)\n",
    "performance1.append(245.5)\n",
    "performance1.append(146.3)\n",
    "performance1.append(124.8)\n",
    "performance1.append(83.2)\n",
    "\n",
    "fig1, ax1 = plt.subplots(figsize=(10,5))\n",
    "\n",
    "ax1.bar(y_pos1, performance1, align='center', alpha=0.9, \n",
    "        color=['#008000', '#20B2AA', '#6495ED', '#8A2BE2', '#C71585', '#B22222', '#FFD700'\n",
    "              ]) \n",
    "\n",
    "for i in range(len(currencies1)):\n",
    "    plt.text(x = y_pos1[i]-0.3, y = performance1[i], s = performance1[i], size = 11)\n",
    "    \n",
    "plt.xticks(y_pos1, currencies1)\n",
    "plt.ylabel('Number of tweets')\n",
    "plt.xlabel('Currency pair')\n",
    "# plt.title('Tweets` database breakdown')\n",
    "\n",
    "plt.show()"
   ]
  },
  {
   "cell_type": "code",
   "execution_count": 23,
   "metadata": {},
   "outputs": [
    {
     "data": {
      "image/png": "[encoded data removed]",
      "text/plain": [
       "<Figure size 1008x432 with 1 Axes>"
      ]
     },
     "metadata": {},
     "output_type": "display_data"
    }
   ],
   "source": [
    "labels=['EURUSD', 'JPYUSD', 'AUDUSD', 'CADUSD', 'GBPUSD', 'NZDUSD', 'GBPJPY', 'EURJPY', 'AUDJPY', 'Other']\n",
    "sizes=[20.03, 13.98, 9.14, 7.59, 7.29, 5.99, 5.67, 5.56, 4.92, 19.83]\n",
    "explode = (0.1, 0.1, 0.1, 0.1, 0, 0, 0, 0, 0, 0)\n",
    "\n",
    "fig1, ax1 = plt.subplots(figsize=(14,6))\n",
    "ax1.pie(sizes, explode=explode, labels=labels, autopct='%1.1f%%',\n",
    "        shadow=True, startangle=90, \n",
    "        colors=['#008000', '#6495ED', '#C71585', '#8A2BE2', '#20B2AA', '#FFD700', '#AFEEEE', '#FFC0CB', '#808080', '#A0522D'\n",
    "              ])\n",
    "ax1.axis('equal')  # Equal aspect ratio ensures that pie is drawn as a circle.\n",
    "\n",
    "plt.show()"
   ]
  },
  {
   "cell_type": "code",
   "execution_count": 106,
   "metadata": {},
   "outputs": [
    {
     "name": "stderr",
     "output_type": "stream",
     "text": [
      "b'Skipping line 177: expected 4 fields, saw 5\\nSkipping line 450: expected 4 fields, saw 5\\n'\n",
      "b'Skipping line 238: expected 4 fields, saw 5\\n'\n",
      "b'Skipping line 102: expected 4 fields, saw 5\\nSkipping line 409: expected 4 fields, saw 6\\nSkipping line 580: expected 4 fields, saw 5\\n'\n",
      "b'Skipping line 371: expected 4 fields, saw 5\\nSkipping line 504: expected 4 fields, saw 5\\n'\n",
      "b'Skipping line 44: expected 4 fields, saw 5\\nSkipping line 177: expected 4 fields, saw 6\\nSkipping line 534: expected 4 fields, saw 5\\n'\n"
     ]
    }
   ],
   "source": [
    "theresa = []\n",
    "\n",
    "# theresa.append('2019-05-06')\n",
    "# theresa.append('2019-05-07')\n",
    "\n",
    "# theresa.append('2019-05-08')\n",
    "# theresa.append('2019-05-09')\n",
    "theresa.append('2019-05-10')\n",
    "theresa.append('2019-05-11')\n",
    "theresa.append('2019-05-12')\n",
    "theresa.append('2019-05-13')\n",
    "theresa.append('2019-05-14')\n",
    "theresa.append('2019-05-15')\n",
    "theresa.append('2019-05-16')\n",
    "theresa.append('2019-05-17')\n",
    "theresa.append('2019-05-18')\n",
    "theresa.append('2019-05-19')\n",
    "theresa.append('2019-05-20')\n",
    "theresa.append('2019-05-21')\n",
    "theresa.append('2019-05-22')\n",
    "theresa.append('2019-05-23')\n",
    "theresa.append('2019-05-24')\n",
    "theresa.append('2019-05-25')\n",
    "theresa.append('2019-05-26')\n",
    "\n",
    "\n",
    "num = []\n",
    "dates = []\n",
    "for i in range(len(theresa)):\n",
    "    date = theresa[i]\n",
    "    filename = 'Testing_data/GBPUSD/GBPUSDTemporaryRaw' + date + '.csv'\n",
    "    file = pd.read_csv(filename, header=None, error_bad_lines=False)\n",
    "    num.append(len(file))\n",
    "    dates.append(date)"
   ]
  },
  {
   "cell_type": "code",
   "execution_count": 154,
   "metadata": {},
   "outputs": [
    {
     "data": {
      "image/png": "[encoded data removed]",
      "text/plain": [
       "<Figure size 3240x1080 with 1 Axes>"
      ]
     },
     "metadata": {
      "needs_background": "light"
     },
     "output_type": "display_data"
    }
   ],
   "source": [
    "import matplotlib.pyplot as plt\n",
    "fig, ax = plt.subplots(figsize=(45,15))\n",
    "\n",
    "bars = ax.bar(dates, num, align='center', alpha=0.9, color='#228B22')\n",
    "ax.axhline(y=417, c='r', label='average number of tweets posted per day', ls='--', linewidth=2)\n",
    "plt.ylabel('Number of tweets', size=30)\n",
    "plt.xlabel('Date', size=30)\n",
    "plt.legend(loc='best', prop={'size': 30})\n",
    "\n",
    "for tick in ax.xaxis.get_major_ticks():\n",
    "    tick.label.set_fontsize(20) \n",
    "    \n",
    "for tick in ax.yaxis.get_major_ticks():\n",
    "    tick.label.set_fontsize(20) \n",
    "\n",
    "for i in range(len(dates)):\n",
    "    plt.text(x = dates[i], y = num[i], s = num[i], size = 30)\n",
    "\n",
    "\n",
    "for item in bars[:12]:\n",
    "    item.set_color('#8FBC8F')\n",
    "    \n",
    "for item in bars[15:]:\n",
    "    item.set_color('#8FBC8F')\n",
    "\n",
    "plt.show()"
   ]
  }
 ],
 "metadata": {
  "kernelspec": {
   "display_name": "Python 3",
   "language": "python",
   "name": "python3"
  },
  "language_info": {
   "codemirror_mode": {
    "name": "ipython",
    "version": 3
   },
   "file_extension": ".py",
   "mimetype": "text/x-python",
   "name": "python",
   "nbconvert_exporter": "python",
   "pygments_lexer": "ipython3",
   "version": "3.7.4"
  }
 },
 "nbformat": 4,
 "nbformat_minor": 2
}
